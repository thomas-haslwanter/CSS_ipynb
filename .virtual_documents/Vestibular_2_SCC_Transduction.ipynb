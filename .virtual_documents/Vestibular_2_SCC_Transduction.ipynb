# Import the required packages
get_ipython().run_line_magic("matplotlib", " inline")
import numpy as np
import matplotlib.pyplot as plt
from scipy import signal

# Make the display easy to read
get_ipython().run_line_magic("precision", " 2")


# Import the required modules
from scipy import signal

# Define the system
m, r, k = 1, 1, 0.1
num = [m, 0]
den = [m, r, k]
system = signal.lti(num, den)

# Define the input
t = np.arange(0, 30, 0.1)
x = np.zeros_like(t)
x[t>1] = 1

# Simulate the system response
tout, outSignal, xout = signal.lsim(system, x, t)

# Plot the output
plt.plot(t, x, label='Movement Base')
plt.plot(tout, outSignal, label='Displacement')
plt.legend()
plt.xlabel('Time [sec]')
plt.ylabel('Deflection')
plt.ylim(-0.05, 1.05)
plt.axhline(0, linestyle='--')


# SCC dynamics
T1 = 0.01
T2 = 5
num = [T1*T2, 0]
den = [T1*T2, T1+T2, 1]

scc = signal.lti(num,den)
w, mag, phase = signal.bode(scc)

fig, axs = plt.subplots(2,1)
axs[0].semilogx(w, mag)    # Bode magnitude plot
axs[0].set_ylabel('Gain [dB]')
axs[1].semilogx(w, phase)  # Bode phase plot
axs[1].set_ylabel('Phase [deg]')
axs[1].set_xlabel('Freqency [Hz]')


tout, outSignal, xout = signal.lsim(scc, x, t)


# The control package has to be installed manually.
# Unfortunately, it's syntax is slightly different from the one in scipy.signal
import control

scc = control.tf(num,den)
k = 100
feedback =control.series(scc, control.feedback(k, scc, sign=-1))
t_fb, x_fb = control.step_response(feedback)
plt.plot(tout, outSignal/np.max(outSignal), label='Cupula Displacement')
plt.plot(t_fb+1, x_fb/np.max(x_fb), label='Eye Velocity')
plt.xlim(0, 40)
plt.xlabel('Time [sec]')
plt.ylabel('Normalized Responses')
plt.legend()


# For example, calculate the position from a velocity step
from scipy.integrate import cumtrapz

# Set the experimenal parameters
rate = 50     # sample rate, in [Hz]
duration = 10  # [sec]
vel_max = 100
x0 = 0         # Initial potiion

# Simulate the velocity step
t = np.arange(duration*rate)/rate
vel = np.zeros(duration*rate)
vel[2*rate:]= vel_max  # deg/sec
vel[rate:2*rate] = np.linspace(0, vel_max, rate)

# Calculate the corresponding position in space
pos = cumtrapz(vel, dx=1/rate, initial=x0)

fig, axs = plt.subplots(2,1)
axs[0].plot(t, vel)
axs[0].set_ylabel('Velocity [m/s]')
axs[1].plot(t, pos)
axs[1].set_ylabel('Positoin [m]')
axs[1].set_xlabel('Time [sec]')



