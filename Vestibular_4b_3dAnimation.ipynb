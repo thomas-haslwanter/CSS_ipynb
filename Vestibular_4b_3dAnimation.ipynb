{
 "cells": [
  {
   "cell_type": "markdown",
   "metadata": {},
   "source": [
    "# Visualize Results of 3D Analysis\n",
    "This Notebook demonstrates the movement of the \"nose\", resulting from the analysis of the vestibular exercise.\n",
    "\n",
    "**Notes:** \n",
    "\n",
    "* Typically the notebook kernel has to be re-started, and all output cleared, in order to see the animation window!\n",
    "* **Warning:** \n",
    "    * You may have to install <code>vpython</code> by hand.\n",
    "    * This notebook **only runs in Jupyter Notebook, NOT in JupyterLab!!**\n",
    "* Use the mouse (right click-and-drag, and the scroll-wheel) to adjust the 3D view\n",
    "\n"
   ]
  },
  {
   "cell_type": "code",
   "execution_count": 1,
   "metadata": {},
   "outputs": [
    {
     "data": {
      "text/html": [
       "<div id=\"glowscript\" class=\"glowscript\"></div>"
      ],
      "text/plain": [
       "<IPython.core.display.HTML object>"
      ]
     },
     "metadata": {},
     "output_type": "display_data"
    },
    {
     "data": {
      "application/javascript": [
       "if (typeof Jupyter !== \"undefined\") { window.__context = { glowscript_container: $(\"#glowscript\").removeAttr(\"id\")};}else{ element.textContent = ' ';}"
      ],
      "text/plain": [
       "<IPython.core.display.Javascript object>"
      ]
     },
     "metadata": {},
     "output_type": "display_data"
    }
   ],
   "source": [
    "from vpython import *\n",
    "import os\n",
    "import numpy as np"
   ]
  },
  {
   "cell_type": "code",
   "execution_count": 4,
   "metadata": {},
   "outputs": [],
   "source": [
    "# This directory has to be adjusted to your local data!\n",
    "startup_dir = r'.'\n",
    "inFile = r'data/nose_dir.txt'\n",
    "data = np.loadtxt(os.path.join(startup_dir, inFile))"
   ]
  },
  {
   "cell_type": "code",
   "execution_count": 5,
   "metadata": {},
   "outputs": [],
   "source": [
    "cs = curve(pos=[(-2, 0, 0), (2, 0, 0), \n",
    "                           (0, 0, 0), (0, 2, 0), (0, -2, 0),\n",
    "                            (0,0,0), (0, 0, 2), (0,0,-2)])\n",
    "horPlane = curve(pos=[(-2,0,-2), (-2,0,2),(2,0,2),(2,0,-2), (-2,0,-2)])\n",
    "        \n",
    "xLabel = label(pos=vec(0, 0, 2), text='X')\n",
    "yLabel = label(pos=vec(2, 0, 0), text='Y')\n",
    "zLabel = label(pos=vec(0, 2, 0), text='Z')\n",
    "ii = 0\n",
    "q_arrow = arrow(pos=vec(0,0,0), \n",
    "                axis=vec(0,0,1),\n",
    "                shaftwidth=0.2)"
   ]
  },
  {
   "cell_type": "code",
   "execution_count": 6,
   "metadata": {},
   "outputs": [],
   "source": [
    "while ii<len(data)-1:\n",
    "            ii = ii+1\n",
    "            rate(100)\n",
    "            dir_vector = data[ii]\n",
    "            q_arrow.axis=vec(dir_vector[1], dir_vector[2], dir_vector[0])"
   ]
  },
  {
   "cell_type": "markdown",
   "metadata": {},
   "source": [
    "    Author: Thomas Haslwanter\n",
    "    Date: Feb 02, 2023\n",
    "\n",
    "<img src=\"data/images/CCA_40.png\">\n",
    "*The Vestibular System*  is licensed under a Creative Commons Attribution 4.0 International License."
   ]
  },
  {
   "cell_type": "code",
   "execution_count": null,
   "metadata": {},
   "outputs": [],
   "source": []
  }
 ],
 "metadata": {
  "kernelspec": {
   "display_name": "Python 3 (ipykernel)",
   "language": "python",
   "name": "python3"
  },
  "language_info": {
   "codemirror_mode": {
    "name": "ipython",
    "version": 3
   },
   "file_extension": ".py",
   "mimetype": "text/x-python",
   "name": "python",
   "nbconvert_exporter": "python",
   "pygments_lexer": "ipython3",
   "version": "3.10.4"
  }
 },
 "nbformat": 4,
 "nbformat_minor": 4
}
