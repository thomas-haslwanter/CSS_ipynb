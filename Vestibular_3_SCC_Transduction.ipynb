{
 "cells": [
  {
   "cell_type": "markdown",
   "metadata": {},
   "source": [
    "# The Vestibular System - Part 2: \n",
    "# Sensory Transduction and Information Processing\n",
    "\n",
    "\n",
    "<img src=\"data/images/labyrinth_labelled.png\" style=\"width: 300px;\"/>"
   ]
  },
  {
   "cell_type": "markdown",
   "metadata": {},
   "source": [
    "## Preliminaries\n",
    "\n",
    "The package **control** typically has to be installed by hand, with `pip install control` typed into a command terminal."
   ]
  },
  {
   "cell_type": "code",
   "execution_count": 1,
   "metadata": {},
   "outputs": [
    {
     "data": {
      "text/plain": [
       "'%.2f'"
      ]
     },
     "execution_count": 1,
     "metadata": {},
     "output_type": "execute_result"
    }
   ],
   "source": [
    "# Import the required packages\n",
    "%matplotlib inline\n",
    "import numpy as np\n",
    "import matplotlib.pyplot as plt\n",
    "from scipy import signal\n",
    "import control\n",
    "\n",
    "# Make the display easy to read\n",
    "%precision 2"
   ]
  },
  {
   "cell_type": "markdown",
   "metadata": {
    "tags": []
   },
   "source": [
    "## Geometry\n",
    "\n",
    "### Canal-Muscle Alignment\n",
    "\n",
    "We have three pairs of *semicircular canals (SCC)*, and three aligned pairs of *oculomotor muscles*. For example, the *horizontal semicircular canals* are aligned with the pulling directions of the *medial rectus* and the *abducens* muscles.\n",
    "\n",
    "### Push-Pull Principle\n",
    "\n",
    "Without stimulation, haircells have a *resting firing rate* of approx 100 Hz. But on inhibition, the firing rate cannot go below zero Hertz.\n",
    "To achieve good bidirectional response, canals (and also otoliths) have to work in a *push-pull*\n",
    "fashion. Activation of a canal on one side always inhibits the corresponding canal on the contralateral side. Comparison of the two canals determines the perception of rotation, with a linear response in both directions.\n",
    "It is also explains the geometric arrangement of the six canals.\n",
    "\n",
    "<img src=\"data/images/Semicircular_Canals.png\" style=\"width: 250px;\"/>\n",
    "\n",
    "## Dynamics\n",
    "\n",
    "To a good approximation, the dynamics of the balance system can be discribed with *linear time-invariant (LTI) systems*. Specifically, the mechanics of the SCCs can be well approximated by a damped oscillator. Since it is easier to visualize linear movements, we therefore first consider how to describe a linear damped oscillator.\n",
    "\n",
    "### Damped Linear Oscillator Equations\n",
    "\n",
    "The deflection of the cupula, the sensory element of the SCCs, as a function of head movement can be well approximated by the equations governing a *damped oscillator*.\n",
    "(Details can be found in https://en.wikibooks.org/wiki/Sensory_Systems/Computer_Models/Vestibular_Simulation)\n",
    "\n",
    "<img src=\"data/images/1D_movement.png\" style=\"width: 300px;\"/>\n",
    "\n",
    "* x ... position of mass in space\n",
    "* b ... position of base\n",
    "* k ... spring constant\n",
    "* $\\delta = b - x$ ... difference\n",
    "\n",
    "\\begin{equation}\n",
    "    m \\ddot{x} = r \\dot{\\delta} + k * \\delta\n",
    "\\end{equation}\n",
    "\\begin{equation}\n",
    "    m \\ddot{b} = m \\ddot{\\delta} + r \\dot{\\delta} + k * \\delta\n",
    "\\end{equation}"
   ]
  },
  {
   "cell_type": "markdown",
   "metadata": {},
   "source": [
    "### Implementation with Laplace Transformation\n",
    "\n",
    "Differential equations like the one above can be converted into - easily solvable - algebraic equations, by making use of the *Laplace Transofmation*. Given any time course f(t), its Laplace transform F(s) is\n",
    "\n",
    "\\begin{equation}\n",
    "  F(s) = \\int\\limits_0^\\infty  {f(t) \\cdot {e^{ - st}}dt}\n",
    "\\end{equation}\n",
    "\t\n",
    "while its inverse is\n",
    "\n",
    "\\begin{equation}\n",
    "  f(t) = \\int\\limits_S {F(s) \\cdot {e^{st}}ds}\n",
    "\\end{equation}\n",
    "\n",
    "where the integration is over the s-plane, S. s is sometimes referred to as *complex frequency*.\n",
    "\n",
    "Laplace Transformations are a generalization of Fourier Transformation. With Fourier Transformations we have dealt only with sine waves, $e^{j \\omega t}$ . Put another way, we have restricted $s$ to $j \\omega$ so that est was restricted to $e^{j \\omega t}$. But this is unnecessary, we can let $s$ enjoy being fully complex or $s = \\sigma + j \\omega$ . This greatly expands the kinds of functions that $e^{st}$ can represent.\n"
   ]
  },
  {
   "cell_type": "markdown",
   "metadata": {},
   "source": [
    "With a Laplace transformation, where\n",
    "\n",
    "\\begin{equation}\n",
    "    \\frac{dx}{dt} \\rightarrow s \\tilde{X} - x(0)\n",
    "\\end{equation}\n",
    "the differntial equation above is transformed into\n",
    "\n",
    "\\begin{equation}\n",
    "    \\frac{\\delta}{sB} = \\frac{m * s}{m s^2 + r s + k}\n",
    "\\end{equation}\n",
    "\n",
    "#### Example: Kick a Damped Oscillator"
   ]
  },
  {
   "cell_type": "code",
   "execution_count": 2,
   "metadata": {},
   "outputs": [
    {
     "data": {
      "text/plain": [
       "<matplotlib.lines.Line2D at 0x2a8b490a200>"
      ]
     },
     "execution_count": 2,
     "metadata": {},
     "output_type": "execute_result"
    },
    {
     "data": {
      "image/png": "[encoded data removed]",
      "text/plain": [
       "<Figure size 432x288 with 1 Axes>"
      ]
     },
     "metadata": {
      "needs_background": "light"
     },
     "output_type": "display_data"
    }
   ],
   "source": [
    "# Define the system parameters\n",
    "m, r, k = 1, 1, 0.1\n",
    "\n",
    "# Specify the transfer function, by giving the polynomial coefficients of numerator and denominator\n",
    "num = [m, 0]\n",
    "den = [m, r, k]\n",
    "system = signal.lti(num, den)\n",
    "\n",
    "# Define the input: here for example a velocity step, starting at t=1\n",
    "t = np.arange(0, 30, 0.1)\n",
    "x = np.zeros_like(t)\n",
    "x[t>1] = 1\n",
    "\n",
    "# Simulate the system response\n",
    "t_out, out_signal, state_vector = signal.lsim(system, x, t)\n",
    "\n",
    "# Plot the output\n",
    "plt.plot(t, x, label='Movement Base')\n",
    "plt.plot(t_out, out_signal, label='Displacement')\n",
    "plt.legend()\n",
    "plt.xlabel('Time [sec]')\n",
    "plt.ylabel('Deflection')\n",
    "plt.ylim(-0.05, 1.05)\n",
    "plt.axhline(0, linestyle='--')"
   ]
  },
  {
   "cell_type": "markdown",
   "metadata": {
    "tags": []
   },
   "source": [
    "### Rotational Movements - SCC Dynamics\n",
    "\n",
    "As shown in the wikibook, the deflection of the cupula of a SCC can be described well with a dampled oscillator. Thereby the parameters are such that the system can be approximated by a serial combination of low-pass filter and a high-pass filter. For typical head movements (i.e. movements with frequency components from 0.1 - 10 Hz), the deflection of the cupula is proportional to the head velocity ( https://en.wikibooks.org/wiki/Sensory_Systems/Computer_Models/Vestibular_Simulation )\n",
    "\n",
    "<img src=\"data/images/cupula_deflected.png\" style=\"width: 200px;\"/>"
   ]
  },
  {
   "cell_type": "code",
   "execution_count": 3,
   "metadata": {},
   "outputs": [
    {
     "data": {
      "text/plain": [
       "Text(0.5, 0, 'Freqency [Hz]')"
      ]
     },
     "execution_count": 3,
     "metadata": {},
     "output_type": "execute_result"
    },
    {
     "data": {
      "image/png": "[encoded data removed]",
      "text/plain": [
       "<Figure size 432x288 with 2 Axes>"
      ]
     },
     "metadata": {
      "needs_background": "light"
     },
     "output_type": "display_data"
    }
   ],
   "source": [
    "# SCC dynamics\n",
    "T1 = 0.01  # time-constant for the low-pass filter (sec)\n",
    "T2 = 5     # time-constant for the high-pass filter (sec)\n",
    "\n",
    "num = [T1*T2, 0]\n",
    "den = [T1*T2, T1+T2, 1]\n",
    "\n",
    "# Find the bode-plot, which characterizes the system dynamics\n",
    "scc = signal.lti(num,den)\n",
    "w, mag, phase = signal.bode(scc)\n",
    "\n",
    "# Plot the results\n",
    "fig, axs = plt.subplots(2, 1, sharex=True)\n",
    "axs[0].semilogx(w, mag)    # Bode magnitude plot\n",
    "axs[0].set_ylabel('Gain [dB]')\n",
    "axs[1].semilogx(w, phase)  # Bode phase plot\n",
    "axs[1].set_ylabel('Phase [deg]')\n",
    "axs[1].set_xlabel('Freqency [Hz]')"
   ]
  },
  {
   "cell_type": "markdown",
   "metadata": {},
   "source": [
    "Now that we know the mechanical transfer function of the semicircular canals *scc*, we can simulate the deflection of the cupula for an arbitrary head movement with"
   ]
  },
  {
   "cell_type": "code",
   "execution_count": 4,
   "metadata": {},
   "outputs": [],
   "source": [
    "head_movement = x\n",
    "t_out, cupula_deflection, _ = signal.lsim(scc, head_movement, t)"
   ]
  },
  {
   "cell_type": "markdown",
   "metadata": {},
   "source": [
    "## Information Processing by our Central Nervous System\n",
    "\n",
    "From the analysis of the transduction mechanics (as described above), we know what the input to our nervous system is. And from the experimental recordings of human responses, e.g. eye movements during rotational accelerations in the dark, we know the resulting motor output. The signal analysis between is what happens \"in the brain\".\n",
    "\n",
    "* Control system models can be used to describe the observed input-output behavior\n",
    "* And through lesion experiments (in animal models, or in well-defined patients) we can try to locate the anatomical substrate corresponding to the control-system model\n",
    "\n",
    "\n",
    "### Example 1: Internal model of the SCCs -> Velocity Storage\n",
    "\n",
    "For example, experiments have revealed that the decay of the slow-phase eye velocity (and the corresponding perception of rotation) is significantly slower than the return of the cupula to its resting state. This extension of the time constant of the eye velocity can be simulated with a negative feedback loop. In the picture below, the elements with the \"^\" indicate the estimates, i.e. the internal models, of the true parameters; for example, *C* is the transfer function of the semicircular canal, and $\\hat{C}$ the internal estimate of this transfer function:\n",
    "\n",
    "<img src=\"data/images/Feedback_StateEstimation.png\" width=400px>\n",
    "\n",
    "\\begin{gathered}\n",
    "  \\hat \\omega  = ({S_{scc}} \\cdot \\omega ) \\cdot k - {{\\hat S}_{scc}} \\cdot \\hat \\omega  \\cdot k \\hfill \\\\\n",
    "  \\hat \\omega  = \\frac{{({S_{scc}} \\cdot \\omega )}}{{{{\\hat S}_{scc}} + \\frac{1}{k}}}\\,\\,\\xrightarrow{{k \\to \\infty }}\\,\\,\\omega  \\hfill \\\\ \n",
    "\\end{gathered}\n",
    "\n",
    "Such systems can be simulated in Python with the package *control* (unfortunately, it's syntax is slightly different from the one in scipy.signal):"
   ]
  },
  {
   "cell_type": "code",
   "execution_count": 5,
   "metadata": {},
   "outputs": [],
   "source": [
    "# Canal response\n",
    "scc = control.tf(num,den)\n",
    "t_canal, deflection_cupula = control.step_response(scc)\n",
    "\n",
    "# System response (i.e. eye movements), here with a feedback-gain of '1':\n",
    "k = 1\n",
    "feedback = control.series(scc, control.feedback(k, scc, sign=-1))\n",
    "t_fb, x_fb = control.step_response(feedback)"
   ]
  },
  {
   "cell_type": "code",
   "execution_count": 6,
   "metadata": {},
   "outputs": [
    {
     "data": {
      "text/plain": [
       "<matplotlib.legend.Legend at 0x2a8b4cb3760>"
      ]
     },
     "execution_count": 6,
     "metadata": {},
     "output_type": "execute_result"
    },
    {
     "data": {
      "image/png": "[encoded data removed]",
      "text/plain": [
       "<Figure size 432x288 with 1 Axes>"
      ]
     },
     "metadata": {
      "needs_background": "light"
     },
     "output_type": "display_data"
    }
   ],
   "source": [
    "# Plot the results\n",
    "plt.plot(t_canal, deflection_cupula/np.max(deflection_cupula), label='Cupula Displacement')\n",
    "plt.plot(t_fb, x_fb/np.max(x_fb), label='Eye Velocity')\n",
    "plt.xlim(0, 40)\n",
    "plt.xlabel('Time [sec]')\n",
    "plt.ylabel('Normalized Step-responses')\n",
    "plt.legend()"
   ]
  },
  {
   "cell_type": "markdown",
   "metadata": {},
   "source": [
    "### Anatomical correlate of this feedback loop\n",
    "There exists physiological confirmation for the actual existance of such feedback loops: when the *corpus callosum* is severed, or in patients with *unilateral vestibular deafferentation*, the time constant of the eye velocity corresponds approximatley"
   ]
  },
  {
   "cell_type": "markdown",
   "metadata": {},
   "source": [
    "### Example 2: Neural Integrator (only oculomotor, no vestibular component)\n",
    "\n",
    "Healthy humans are also able to move the eye into an eccentric eye position - and keep them there:\n",
    "\n",
    "<img src=\"data/images/Neural_Integrator.png\" style=\"width: 500px;\"/>\n",
    "\n",
    "To generate the constant neural input required to *keep* the eye in an eccentric position, we need a *neural integrator* to obtain an *eye position* signal:\n",
    "\n",
    "<img src=\"data/images/Neural-Integrator.gif\" style=\"width: 500px;\"/>\n",
    "\n",
    "For horizontal eye movements, this integrator can be found in the *nucleus prepositus hypoglossi*; and for vertical/torsional eye movements, this integrator is located in the *nucleus of Cajal*."
   ]
  },
  {
   "cell_type": "markdown",
   "metadata": {},
   "source": [
    "[Vestibular_2_Stimulus.ipynb](Vestibular_1_FirstComputationalSteps.ipynb)<img src=\"data/images/Forward_Backward.png\" align=\"middle\"> [Vestibular_4_TipsForExercise.ipynb](Vestibular_4_TipsForExercise.ipynb)"
   ]
  },
  {
   "cell_type": "markdown",
   "metadata": {},
   "source": [
    "    Author: Thomas Haslwanter\n",
    "    Date: Feb 16, 2023\n",
    "\n",
    "<img src=\"data/images/CCA_40.png\">\n",
    "*The Vestibular System*  is licensed under a Creative Commons Attribution 4.0 International License."
   ]
  },
  {
   "cell_type": "code",
   "execution_count": null,
   "metadata": {
    "collapsed": true,
    "jupyter": {
     "outputs_hidden": true
    }
   },
   "outputs": [],
   "source": []
  }
 ],
 "metadata": {
  "kernelspec": {
   "display_name": "Python 3 (ipykernel)",
   "language": "python",
   "name": "python3"
  },
  "language_info": {
   "codemirror_mode": {
    "name": "ipython",
    "version": 3
   },
   "file_extension": ".py",
   "mimetype": "text/x-python",
   "name": "python",
   "nbconvert_exporter": "python",
   "pygments_lexer": "ipython3",
   "version": "3.10.4"
  }
 },
 "nbformat": 4,
 "nbformat_minor": 4
}
