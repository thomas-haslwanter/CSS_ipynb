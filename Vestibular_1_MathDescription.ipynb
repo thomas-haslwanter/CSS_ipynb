{
 "cells": [
  {
   "cell_type": "markdown",
   "metadata": {},
   "source": [
    "# The Vestibular System - Part 1: Mathematical Description\n",
    "\n",
    "* 3 DOF Translations -> Otoliths (Utricle, Saccule) \n",
    "* 3 DOF Rotations -> 3 Semicircular Canals\n",
    "\n",
    "<img src=\"data/images/labyrinth_labelled.png\" style=\"width: 300px;\"/>"
   ]
  },
  {
   "cell_type": "markdown",
   "metadata": {},
   "source": [
    "## Semicircular Canals\n",
    "\n",
    "The three semicircular canals (SCCs) on each side of the head transduce angular velocity. To describe this transduction mathematically, each canal can be described by a vector perpendicular to the surface spanned by\n",
    "the canal $\\vec{n}$.\n",
    "\n",
    "### Orientation of all 3 Canals, on the Right Side of the Head\n"
   ]
  },
  {
   "cell_type": "code",
   "execution_count": 1,
   "metadata": {},
   "outputs": [
    {
     "data": {
      "text/plain": [
       "'%.2f'"
      ]
     },
     "execution_count": 1,
     "metadata": {},
     "output_type": "execute_result"
    }
   ],
   "source": [
    "# Import the required packages\n",
    "%matplotlib inline\n",
    "import numpy as np\n",
    "import matplotlib.pyplot as plt\n",
    "\n",
    "# Make the display easy to read\n",
    "% precision 2"
   ]
  },
  {
   "cell_type": "code",
   "execution_count": 2,
   "metadata": {},
   "outputs": [
    {
     "name": "stdout",
     "output_type": "stream",
     "text": [
      "The matrix rows describe horizontal, anterior, and posterior canal orientation\n",
      "[[ 0.32 -0.04 -0.95]\n",
      " [ 0.59  0.79  0.18]\n",
      " [ 0.69 -0.67  0.27]]\n"
     ]
    }
   ],
   "source": [
    "# Enter the information for the canalas into a Python dictionary.\n",
    "# The data are taken from Della Santina et al,  \"Orientation of Human Semicircular\n",
    "# Canals Measured by Three-Dimensional Multi-planar CT Reconstruction.\".\n",
    "# J Assoc Res Otolaryngol 6(3): 191-206.\n",
    "\n",
    "Canals = {'info': 'The matrix rows describe horizontal, anterior, and posterior canal orientation',\n",
    " 'right': np.array(\n",
    "        [[0.32269, -0.03837, -0.94573], \n",
    "         [0.58930,  0.78839,  0.17655],\n",
    "         [0.69432, -0.66693,  0.27042]]),\n",
    " 'left': np.array(\n",
    "        [[-0.32269, -0.03837, 0.94573], \n",
    "         [-0.58930,  0.78839,  -0.17655],\n",
    "         [-0.69432, -0.66693,  -0.27042]])}\n",
    "        \n",
    "# Normalize these vectors (just a small correction):\n",
    "for side in ['right', 'left']:\n",
    "    Canals[side] = (Canals[side].T / np.sqrt(np.sum(Canals[side]**2, axis=1))).T\n",
    "\n",
    "# Show the results for the right SCCs:\n",
    "print(Canals['info'])\n",
    "print(Canals['right'])"
   ]
  },
  {
   "cell_type": "markdown",
   "metadata": {},
   "source": [
    "### Example: Stimulation of the Right Horizontal Canal, by Rotation to the Right, with 100 deg/2\n",
    "\n",
    "\\begin{equation}\n",
    "    stim = \\vec{\\omega} \\cdot \\vec{n}\n",
    "\\end{equation}\n",
    "\n",
    "$\\vec{\\omega}$ ... relativ to the *head*!\n",
    "\n",
    "<img src=\"data/images/SCC_stimulation_with_omega_.jpg\" style=\"width: 150px;\"/>\n",
    "\n"
   ]
  },
  {
   "cell_type": "code",
   "execution_count": 3,
   "metadata": {},
   "outputs": [
    {
     "name": "stdout",
     "output_type": "stream",
     "text": [
      "The angular velocity sensed by the right horizontal canal is 94.6 deg/s.\n"
     ]
    }
   ],
   "source": [
    "omega = np.r_[0, 0, -100]\n",
    "stim = omega @ Canals['right'][0]\n",
    "\n",
    "# Before Python 3.5:\n",
    "# stim = np.dot(omega, Canals['right'][0])\n",
    "\n",
    "print('The angular velocity sensed by the right horizontal canal is {0:3.1f} deg/s.'.format(stim))"
   ]
  },
  {
   "cell_type": "markdown",
   "metadata": {},
   "source": [
    "<font color='red'>\n",
    "<img src=\"data/images/matlab_logo_s.jpg\" width=50px, align='left'>*Matlab Equivalent Commands*:\n",
    "</font>\n",
    "\n",
    "    % Define the semicircular canals\n",
    "    Canals(1).side = 'right';\n",
    "    Canals(1).rows = {'horizontal canal'; 'anterior canal'; 'posterior canal'};\n",
    "    Canals(1).orientation = [\t.365\t .158\t-.905\n",
    "        .652\t .753\t-.017\n",
    "        .757\t-.561\t .320];\n",
    "    Canals(2).side = 'left';\n",
    "    Canals(2).rows = {'hor'; 'ant'; 'post'};\n",
    "    Canals(2).orientation = [-.365\t  .158 \t .905\n",
    "        -.652\t  .753 \t .017\n",
    "        -.757 \t -.561\t-.320];\n",
    "\n",
    "    % Normalize the canal-vectors (only a tiny correction):\n",
    "    for ii = 1:2\n",
    "        for jj = 1:3\n",
    "            Canals(ii).orientation(jj,:) = ...\n",
    "                Canals(ii).orientation(jj,:) / norm( Canals(ii).orientation(jj,:) );\n",
    "        end\n",
    "    end\n",
    "\n",
    "    % Calculate the stimulation\n",
    "    omega = [0, 0, -100];\n",
    "    stim = omega * Canals(1).orientation(1,:).T;"
   ]
  },
  {
   "cell_type": "markdown",
   "metadata": {},
   "source": [
    "## Otoliths\n",
    "\n",
    "The description of the otoliths is more involved, since each haircell on the otolith membrane senses the local strength of the gravito-inertal force. The direction of maximum sensitivity can for each haircell be described by a *Sensitivity Vector* $\\vec{n}$.\n",
    "\n",
    "<img src=\"data/images/UtriShapeHair.jpg\" style=\"width: 600px;\"/>\n",
    "\n",
    "\n",
    "\\begin{equation}\n",
    "    \\overrightarrow{GIF} = \\vec{g} + \\frac{d^2\\vec{x}}{dt^2}\n",
    "\\end{equation}\n",
    "\n",
    "\\begin{equation}\n",
    "    stim \\approx \\overrightarrow{GIF} \\cdot \\vec{n}\n",
    "\\end{equation}\n",
    "\n",
    "\n",
    "- For the utricle, the sensitivity vectors lie approx. in the horizontal plane\n",
    "- For the saccule, the sensitivity vectors lie approx. in the vertical plane\n"
   ]
  },
  {
   "cell_type": "markdown",
   "metadata": {},
   "source": [
    "<img src=\"data/images/Forward.png\" style=\"float: right;\"/> [Vestibular_2_SCC_Transduction.ipynb](Vestibular_2_SCC_Transduction.ipynb)"
   ]
  },
  {
   "cell_type": "markdown",
   "metadata": {},
   "source": [
    "    Author: Thomas Haslwanter\n",
    "    Date: April 2018\n",
    "\n",
    "<img src=\"data/images/CCA_40.png\">\n",
    "*The Vestibular System*  is licensed under a Creative Commons Attribution 4.0 International License."
   ]
  },
  {
   "cell_type": "code",
   "execution_count": null,
   "metadata": {
    "collapsed": true,
    "jupyter": {
     "outputs_hidden": true
    }
   },
   "outputs": [],
   "source": []
  }
 ],
 "metadata": {
  "kernelspec": {
   "display_name": "Python 3",
   "language": "python",
   "name": "python3"
  },
  "language_info": {
   "codemirror_mode": {
    "name": "ipython",
    "version": 3
   },
   "file_extension": ".py",
   "mimetype": "text/x-python",
   "name": "python",
   "nbconvert_exporter": "python",
   "pygments_lexer": "ipython3",
   "version": "3.8.6"
  }
 },
 "nbformat": 4,
 "nbformat_minor": 4
}
