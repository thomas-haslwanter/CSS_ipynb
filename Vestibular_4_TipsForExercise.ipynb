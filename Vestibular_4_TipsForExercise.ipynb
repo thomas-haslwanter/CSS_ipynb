{
 "cells": [
  {
   "cell_type": "markdown",
   "metadata": {},
   "source": [
    "# Simulation of the Vestibular System\n",
    "\n",
    "## Overview\n",
    "\n",
    "* 3 DOF Translations -> Otoliths (Utricle, Saccule) \n",
    "* 3 DOF Rotations -> 3 Semicircular Canals "
   ]
  },
  {
   "cell_type": "markdown",
   "metadata": {},
   "source": [
    "## Semicircular Canals\n",
    "\n",
    "Each canal can be described by a vector perpendicular to the surface spanned by\n",
    "the canal $\\vec{n}$\n",
    "\n",
    "\\begin{equation}\n",
    "    stim = \\vec{\\omega} \\cdot \\vec{n}\n",
    "\\end{equation}\n",
    "\n",
    "$\\vec{\\omega}$ ... relativ to the *head*!\n",
    "\n",
    "### Orientation of all 3 Canals, on the Right Side of the Head\n"
   ]
  },
  {
   "cell_type": "code",
   "execution_count": 1,
   "metadata": {},
   "outputs": [],
   "source": [
    "%matplotlib inline\n",
    "import numpy as np\n",
    "import matplotlib.pyplot as plt"
   ]
  },
  {
   "cell_type": "code",
   "execution_count": 2,
   "metadata": {
    "collapsed": false,
    "jupyter": {
     "outputs_hidden": false
    }
   },
   "outputs": [
    {
     "name": "stdout",
     "output_type": "stream",
     "text": [
      "The matrix rows describe horizontal, anterior, and posterior canal orientation\n",
      "[[ 0.365  0.158 -0.905]\n",
      " [ 0.652  0.753 -0.017]\n",
      " [ 0.757 -0.561  0.32 ]]\n"
     ]
    }
   ],
   "source": [
    "Canals = {'info': 'The matrix rows describe horizontal, anterior, and posterior canal orientation',\n",
    " 'right': np.array([[0.365, 0.158, -0.905], \n",
    "    [0.652, 0.753, -0.017],\n",
    "    [0.757, -0.561, 0.320]]),\n",
    " 'left': np.array([[-0.365, 0.158, 0.905],\n",
    "    [-0.652, 0.753, 0.017],\n",
    "    [-0.757, -0.561, -0.320]])}\n",
    "\n",
    "print(Canals['info'])\n",
    "print(Canals['right'])"
   ]
  },
  {
   "cell_type": "markdown",
   "metadata": {},
   "source": [
    "### Example: Stimulation of the Right Horizontal Canal, by Rotation to the Right, with 100 deg/2"
   ]
  },
  {
   "cell_type": "code",
   "execution_count": 3,
   "metadata": {
    "collapsed": false,
    "jupyter": {
     "outputs_hidden": false
    }
   },
   "outputs": [
    {
     "name": "stdout",
     "output_type": "stream",
     "text": [
      "90.5\n"
     ]
    }
   ],
   "source": [
    "omega = np.r_[0, 0, -100]\n",
    "stim = omega @ Canals['right'][0]\n",
    "print(stim)"
   ]
  },
  {
   "cell_type": "markdown",
   "metadata": {},
   "source": [
    "### Dynamics\n",
    "\n",
    "The semicircular canals can be well approximated by the equations governing a *Damped Oscillator*.\n",
    "\n",
    "* x ... position of mass in space\n",
    "* b ... position of base\n",
    "* k ... spring constant\n",
    "* $\\delta = b - x$ ... difference\n",
    "\n",
    "\\begin{equation}\n",
    "    m \\ddot{x} = r \\dot{\\delta} + k * \\delta\n",
    "\\end{equation}\n",
    "\\begin{equation}\n",
    "    m \\ddot{b} = m \\ddot{\\delta} + r \\dot{\\delta} + k * \\delta\n",
    "\\end{equation}\n",
    "\n",
    "With a Laplace transformation, where\n",
    "\n",
    "\\begin{equation}\n",
    "    \\frac{dx}{dt} \\rightarrow s \\tilde{X} - x(0)\n",
    "\\end{equation}\n",
    "this leads to\n",
    "\n",
    "\\begin{equation}\n",
    "    \\frac{\\Delta}{sB} = \\frac{m * s}{m s^2 + r s + k}\n",
    "\\end{equation}\n",
    "\n",
    "## Otoliths\n",
    "\n",
    "\\begin{equation}\n",
    "    \\vec{F}=\\overrightarrow{GIF} \\cdot \\vec{n}\n",
    "\\end{equation}\n",
    "\n",
    "\\begin{equation}\n",
    "    \\overrightarrow{GIF} = \\vec{g} + \\frac{d^2\\vec{x}}{dt^2}\n",
    "\\end{equation}\n",
    "\n",
    "$\\vec{n}$ ... Sensitivity vector\n",
    "\n",
    "- For the utricle, the sensitivity vectors lie approx. in the horizontal plane\n",
    "- For the saccule, the sensitivity vectors lie approx. in the vertical plane\n",
    "\n",
    "\n",
    "### Transduction\n",
    "\n",
    "Without stimulation, haircells have a *resting firing rate* of approx 100 Hz.\n",
    "To achieve good bidirectional response, otoliths and canals work in a *push-pull*\n",
    "fashion. This also explains the orientation of the canals.\n",
    "\n",
    "## Analysis\n",
    "\n",
    "### Position from velocity: numerical calculation\n",
    "* Select a *reference position*\n",
    "* Define a coordinate system\n",
    "* Take the (discrete) velocity v(t)\n",
    "* Calculate the cumulative sum of the position steps $\\Delta x_i = v_i * \\Delta t$\n",
    "\n",
    "\\begin{equation}\n",
    "    \\vec{x}(t) = \\vec{x}(0) + \\sum_{i=1}^{n}{\\vec{v}(t_i) \\Delta t}\n",
    "\\end{equation}"
   ]
  },
  {
   "cell_type": "code",
   "execution_count": 4,
   "metadata": {},
   "outputs": [],
   "source": [
    "# Set the experimenal parameters\n",
    "rate = 50     # sample rate, in [Hz]\n",
    "duration = 10  # [sec]\n",
    "vel_max = 100\n",
    "x0 = 0         # Initial position"
   ]
  },
  {
   "cell_type": "code",
   "execution_count": 5,
   "metadata": {},
   "outputs": [],
   "source": [
    "# Simulate a velocity step, starting after 1 sec, and increasing for the next second\n",
    "from scipy.integrate import cumtrapz\n",
    "\n",
    "t = np.arange(duration*rate)/rate\n",
    "vel = np.zeros(duration*rate)\n",
    "vel[rate:2*rate] = np.linspace(0, vel_max, rate)\n",
    "vel[2*rate:]= vel_max  # deg/sec\n",
    "\n",
    "# Calculate the corresponding position in space\n",
    "pos = cumtrapz(vel, dx=1/rate, initial=x0)"
   ]
  },
  {
   "cell_type": "code",
   "execution_count": 6,
   "metadata": {},
   "outputs": [
    {
     "data": {
      "text/plain": [
       "Text(0.5, 0, 'Time [sec]')"
      ]
     },
     "execution_count": 6,
     "metadata": {},
     "output_type": "execute_result"
    },
    {
     "data": {
      "image/png": "[encoded data removed]",
      "text/plain": [
       "<Figure size 432x288 with 2 Axes>"
      ]
     },
     "metadata": {
      "needs_background": "light"
     },
     "output_type": "display_data"
    }
   ],
   "source": [
    "# Plot the results\n",
    "fig, axs = plt.subplots(2, 1, sharex=True)\n",
    "\n",
    "axs[0].plot(t, vel)\n",
    "axs[0].set_ylabel('Velocity [m/s]')\n",
    "axs[1].plot(t, pos)\n",
    "axs[1].set_ylabel('Position [m]')\n",
    "axs[1].set_xlabel('Time [sec]')"
   ]
  },
  {
   "cell_type": "markdown",
   "metadata": {},
   "source": [
    "### Orientation from Angular Velocity\n",
    "\n",
    "* Get to understand what *quaternions* are.\n",
    "* Define a coordinate system (typically *right-handed* coordinate systems).\n",
    "* Select a *reference orientation*, described by the quaternion $q_0$.\n",
    "* Take the (discrete) velocity $\\vec{\\omega}(t)$.\n",
    "* If the velocity describes the movement in a *body-centered coordinate system*, the orientation as a function of time $q(t)$ is given by\n",
    "\n",
    "\\begin{equation}\n",
    "    q(t) = q(0) \\circ \\prod_{i=1}^{n}{q(t_i) dt}\n",
    "\\end{equation}\n",
    "\n",
    "A *Python* implementation of this equation is implemented in the function $skinematics.quat.vel2quat()$"
   ]
  },
  {
   "cell_type": "markdown",
   "metadata": {},
   "source": [
    "[Vestibular_3_SCC_Transduction.ipynb](Vestibular_3_SCC_Transduction.ipynb)<img src=\"data/images/Backward.png\" align=\"middle\">"
   ]
  },
  {
   "cell_type": "markdown",
   "metadata": {},
   "source": [
    "    Author: Thomas Haslwanter\n",
    "    Date: Feb 16, 2023\n",
    "\n",
    "<img src=\"data/images/CCA_40.png\">\n",
    "*The Vestibular System*  is licensed under a Creative Commons Attribution 4.0 International License."
   ]
  },
  {
   "cell_type": "code",
   "execution_count": null,
   "metadata": {},
   "outputs": [],
   "source": []
  }
 ],
 "metadata": {
  "kernelspec": {
   "display_name": "Python 3 (ipykernel)",
   "language": "python",
   "name": "python3"
  },
  "language_info": {
   "codemirror_mode": {
    "name": "ipython",
    "version": 3
   },
   "file_extension": ".py",
   "mimetype": "text/x-python",
   "name": "python",
   "nbconvert_exporter": "python",
   "pygments_lexer": "ipython3",
   "version": "3.10.4"
  }
 },
 "nbformat": 4,
 "nbformat_minor": 4
}
