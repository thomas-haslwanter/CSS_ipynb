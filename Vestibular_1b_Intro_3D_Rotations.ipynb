{
 "cells": [
  {
   "cell_type": "markdown",
   "metadata": {},
   "source": [
    "# Rotations in 3D"
   ]
  },
  {
   "cell_type": "markdown",
   "metadata": {},
   "source": [
    "Working with 3D orientation can be surprisingly challenging. To get started, have a look at the following situation:"
   ]
  },
  {
   "cell_type": "markdown",
   "metadata": {},
   "source": [
    "<img src=\"data/images/CombinedRotations.png\" width=\"500px\">"
   ]
  },
  {
   "cell_type": "markdown",
   "metadata": {},
   "source": [
    "Try to answer the following questions:\n",
    "* When the car is in the \"reference orientation\" (i.e. $[b_x, b_y, b_z]$ is the identity matrix), and the top of the mountain is at the location $[10 km, 1.5 km, -15 km]$, what is the shortest rotation that points the camera to the top of the mountain?\n",
    "* When the car is in the orientation $[b_x, b_y, b_z]$, and the camera is in the orientation $[c_x, c_y, c_z]$ (both orientations are given relative to space), what is the 3D orientation of the camera relative to the car?\n",
    "* In which direction does gravity point then, relative to the camera-fixed coordinate system?"
   ]
  },
  {
   "cell_type": "markdown",
   "metadata": {},
   "source": [
    "You can find the answer to these questions in the book *3D Kinematics (Thomas Haslwanter, 2018)* on p. 53.\n",
    "\n",
    "In addition, try to figure out a simple way to implement the solutions to the three questions above.\n",
    "* If you are using Python: have a look at http://work.thaslwanter.at/skinematics/html/\n",
    "* If you are using Matlab: install the 3D-Kinematics toolbox (choose the corresponding file for your version of Matlab, under https://github.com/thomas-haslwanter/3D_Kinematics/tree/master/matlab/Kinematics_Toolbox)"
   ]
  },
  {
   "cell_type": "code",
   "execution_count": null,
   "metadata": {},
   "outputs": [],
   "source": []
  },
  {
   "cell_type": "code",
   "execution_count": null,
   "metadata": {},
   "outputs": [],
   "source": []
  }
 ],
 "metadata": {
  "kernelspec": {
   "display_name": "Python 3 (ipykernel)",
   "language": "python",
   "name": "python3"
  },
  "language_info": {
   "codemirror_mode": {
    "name": "ipython",
    "version": 3
   },
   "file_extension": ".py",
   "mimetype": "text/x-python",
   "name": "python",
   "nbconvert_exporter": "python",
   "pygments_lexer": "ipython3",
   "version": "3.10.4"
  }
 },
 "nbformat": 4,
 "nbformat_minor": 4
}
